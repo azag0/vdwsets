{
 "cells": [
  {
   "cell_type": "code",
   "execution_count": 1,
   "metadata": {
    "collapsed": true
   },
   "outputs": [],
   "source": [
    "import json\n",
    "from itertools import groupby\n",
    "import numpy as np\n",
    "import sys\n",
    "import re\n",
    "sys.path.append('..')\n",
    "import geomlib\n",
    "from pathlib import Path\n",
    "from tabulate import tabulate\n",
    "\n",
    "bohr = 0.52917721092"
   ]
  },
  {
   "cell_type": "code",
   "execution_count": 2,
   "metadata": {
    "collapsed": false
   },
   "outputs": [],
   "source": [
    "with open('res/suppl-info.json') as f:\n",
    "    pages = json.load(f)"
   ]
  },
  {
   "cell_type": "code",
   "execution_count": 3,
   "metadata": {
    "collapsed": false
   },
   "outputs": [],
   "source": [
    "def get_lines(pages):\n",
    "    for page in pages:\n",
    "        for top, tokens in groupby(page['text'], lambda tok: tok['top']):\n",
    "            tokens = list(tokens)\n",
    "            if len(tokens) == 1 and tokens[0]['left'] > 430 and tokens[0]['top'] > 1120:\n",
    "                continue\n",
    "            token_data = [tok['data'] for tok in tokens]\n",
    "            yield token_data"
   ]
  },
  {
   "cell_type": "code",
   "execution_count": 4,
   "metadata": {
    "collapsed": false
   },
   "outputs": [],
   "source": [
    "lines = get_lines(pages)\n",
    "while next(lines) != ['∆Ga']:\n",
    "    pass\n",
    "energies = []\n",
    "for _ in range(8):\n",
    "    next(lines)\n",
    "while next(lines)[-1] != 'theory.':\n",
    "    pass\n",
    "geoms = {}\n",
    "while True:\n",
    "    try:\n",
    "        name = next(lines)[0].strip()\n",
    "    except StopIteration:\n",
    "        break\n",
    "    natoms = int(next(lines)[0])\n",
    "    next(lines)\n",
    "    geom = []\n",
    "    i = 0\n",
    "    while i < natoms:\n",
    "        line = next(lines)\n",
    "        if len(line) == 1:\n",
    "            continue\n",
    "        i += 1\n",
    "        geom.append((line[0], tuple(float(x) for x in line[1:4])))\n",
    "    geoms[name] = geom"
   ]
  },
  {
   "cell_type": "code",
   "execution_count": 5,
   "metadata": {
    "collapsed": false
   },
   "outputs": [
    {
     "name": "stdout",
     "output_type": "stream",
     "text": [
      "---------  ---\n",
      "1           84\n",
      "10CPP      100\n",
      "11CPP      110\n",
      "2           84\n",
      "3          128\n",
      "4          192\n",
      "5          156\n",
      "6          159\n",
      "7          170\n",
      "8          180\n",
      "ADMPA       64\n",
      "AdCH2NH3+   33\n",
      "AdNH3+      30\n",
      "C70         70\n",
      "CB7        126\n",
      "DB24c8      64\n",
      "FDNB        16\n",
      "TCNB        16\n",
      "tweezer     68\n",
      "---------  ---\n"
     ]
    }
   ],
   "source": [
    "print(tabulate(\n",
    "        (key, len(geom))\n",
    "        for key, geom in sorted(geoms.items())\n",
    "    ))"
   ]
  },
  {
   "cell_type": "code",
   "execution_count": 6,
   "metadata": {
    "collapsed": false
   },
   "outputs": [],
   "source": [
    "for name, geom in sorted(geoms.items()):\n",
    "    try:\n",
    "        idx = int(name)\n",
    "        system = 'complex'\n",
    "        subidx = ''\n",
    "    except ValueError:\n",
    "        idx = ''\n",
    "        system = 'monomer'\n",
    "        subidx = name.lower()\n",
    "    filename = '{}-{}-{}.xyz'.format(idx, system, subidx)\n",
    "    with (Path('geoms')/filename).open('w') as f:\n",
    "        f.write('{}\\n'.format(len(geom)))\n",
    "        f.write('\\n')\n",
    "        for specie, coord in geom:\n",
    "            f.write('{:>2} {:.6} {:.6} {:.6}\\n'.format(specie, *coord))"
   ]
  },
  {
   "cell_type": "code",
   "execution_count": null,
   "metadata": {
    "collapsed": true
   },
   "outputs": [],
   "source": []
  }
 ],
 "metadata": {
  "kernelspec": {
   "display_name": "Python 3",
   "language": "python",
   "name": "python3"
  },
  "language_info": {
   "codemirror_mode": {
    "name": "ipython",
    "version": 3
   },
   "file_extension": ".py",
   "mimetype": "text/x-python",
   "name": "python",
   "nbconvert_exporter": "python",
   "pygments_lexer": "ipython3",
   "version": "3.5.1"
  }
 },
 "nbformat": 4,
 "nbformat_minor": 0
}
