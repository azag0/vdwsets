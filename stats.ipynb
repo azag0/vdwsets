{
 "cells": [
  {
   "cell_type": "code",
   "execution_count": 6,
   "metadata": {
    "collapsed": true
   },
   "outputs": [],
   "source": [
    "import geomlib"
   ]
  },
  {
   "cell_type": "code",
   "execution_count": 7,
   "metadata": {
    "collapsed": false
   },
   "outputs": [],
   "source": [
    "from pathlib import Path"
   ]
  },
  {
   "cell_type": "code",
   "execution_count": 8,
   "metadata": {
    "collapsed": false
   },
   "outputs": [],
   "source": [
    "import numpy as np"
   ]
  },
  {
   "cell_type": "code",
   "execution_count": 22,
   "metadata": {
    "collapsed": false
   },
   "outputs": [],
   "source": [
    "from csv import DictReader"
   ]
  },
  {
   "cell_type": "markdown",
   "metadata": {},
   "source": [
    "### S22"
   ]
  },
  {
   "cell_type": "code",
   "execution_count": 74,
   "metadata": {
    "collapsed": false
   },
   "outputs": [
    {
     "data": {
      "text/plain": [
       "[H6N2,\n",
       " C4H8,\n",
       " C12H12,\n",
       " C8H8N4,\n",
       " C8H8N4O4,\n",
       " C14H13N,\n",
       " C10H11N7O2,\n",
       " C4H6,\n",
       " C6H8O,\n",
       " C6H9N,\n",
       " C7H7N,\n",
       " H4O2,\n",
       " C12H12,\n",
       " C14H13N,\n",
       " C12H12O2,\n",
       " C7H10,\n",
       " C2H4O4,\n",
       " C2H6N2O2,\n",
       " C8H8N4O4,\n",
       " C10H11N3O,\n",
       " C10H11N7O2,\n",
       " C2H8]"
      ]
     },
     "execution_count": 74,
     "metadata": {},
     "output_type": "execute_result"
    }
   ],
   "source": [
    "s22 = [geomlib.readfile(p) for p in Path('s22/build/geoms').glob('*-complex.xyz')]\n",
    "s22"
   ]
  },
  {
   "cell_type": "code",
   "execution_count": 62,
   "metadata": {
    "collapsed": false
   },
   "outputs": [
    {
     "data": {
      "text/plain": [
       "{2}"
      ]
     },
     "execution_count": 62,
     "metadata": {},
     "output_type": "execute_result"
    }
   ],
   "source": [
    "set(len(m.get_fragments()) for m in s22)"
   ]
  },
  {
   "cell_type": "code",
   "execution_count": 50,
   "metadata": {
    "collapsed": false
   },
   "outputs": [
    {
     "data": {
      "text/plain": [
       "18.5"
      ]
     },
     "execution_count": 50,
     "metadata": {},
     "output_type": "execute_result"
    }
   ],
   "source": [
    "np.median([len(m.atoms) for m in s22])"
   ]
  },
  {
   "cell_type": "code",
   "execution_count": 51,
   "metadata": {
    "collapsed": false
   },
   "outputs": [
    {
     "data": {
      "text/plain": [
       "130.68005000000005"
      ]
     },
     "execution_count": 51,
     "metadata": {},
     "output_type": "execute_result"
    }
   ],
   "source": [
    "np.median([m.mass for m in s22])"
   ]
  },
  {
   "cell_type": "code",
   "execution_count": 53,
   "metadata": {
    "collapsed": false
   },
   "outputs": [],
   "source": [
    "s22_enes = list(DictReader(Path('s22/build/energies.csv').open()))"
   ]
  },
  {
   "cell_type": "code",
   "execution_count": 56,
   "metadata": {
    "collapsed": false
   },
   "outputs": [
    {
     "data": {
      "text/plain": [
       "-4.7400000000000002"
      ]
     },
     "execution_count": 56,
     "metadata": {},
     "output_type": "execute_result"
    }
   ],
   "source": [
    "np.median([float(row['CCSD(T) /CBS CP']) for row in s22_enes])"
   ]
  },
  {
   "cell_type": "markdown",
   "metadata": {},
   "source": [
    "### S12L"
   ]
  },
  {
   "cell_type": "code",
   "execution_count": 76,
   "metadata": {
    "collapsed": false
   },
   "outputs": [
    {
     "data": {
      "text/plain": [
       "[C54H34N4,\n",
       " C50H34N2,\n",
       " C55H47N5O19,\n",
       " C48ClH44N5O15,\n",
       " C120H28,\n",
       " C130H28,\n",
       " C62H68N8O6,\n",
       " C64H66N6O6,\n",
       " C40H48N25O12,\n",
       " C39H46N25O12,\n",
       " C60FeH72N30O14,\n",
       " C52H58N28O15]"
      ]
     },
     "execution_count": 76,
     "metadata": {},
     "output_type": "execute_result"
    }
   ],
   "source": [
    "s12l = [geomlib.readfile(p) for p in Path('s12l/geoms').glob('*-complex_*.aims')]\n",
    "s12l"
   ]
  },
  {
   "cell_type": "code",
   "execution_count": 77,
   "metadata": {
    "collapsed": false
   },
   "outputs": [
    {
     "data": {
      "text/plain": [
       "{2}"
      ]
     },
     "execution_count": 77,
     "metadata": {},
     "output_type": "execute_result"
    }
   ],
   "source": [
    "set(len(m.get_fragments()) for m in s12l)"
   ]
  },
  {
   "cell_type": "code",
   "execution_count": 78,
   "metadata": {
    "collapsed": false
   },
   "outputs": [
    {
     "data": {
      "text/plain": [
       "134.0"
      ]
     },
     "execution_count": 78,
     "metadata": {},
     "output_type": "execute_result"
    }
   ],
   "source": [
    "np.median([len(m.atoms) for m in s12l])"
   ]
  },
  {
   "cell_type": "code",
   "execution_count": 79,
   "metadata": {
    "collapsed": false
   },
   "outputs": [
    {
     "data": {
      "text/plain": [
       "1063.9542500000016"
      ]
     },
     "execution_count": 79,
     "metadata": {},
     "output_type": "execute_result"
    }
   ],
   "source": [
    "np.median([m.mass for m in s12l])"
   ]
  },
  {
   "cell_type": "code",
   "execution_count": 80,
   "metadata": {
    "collapsed": false
   },
   "outputs": [],
   "source": [
    "s12l_enes = list(DictReader(Path('s12l/energies.csv').open()))"
   ]
  },
  {
   "cell_type": "code",
   "execution_count": 82,
   "metadata": {
    "collapsed": false
   },
   "outputs": [
    {
     "data": {
      "text/plain": [
       "-28.100000000000001"
      ]
     },
     "execution_count": 82,
     "metadata": {},
     "output_type": "execute_result"
    }
   ],
   "source": [
    "np.median([float(row['ref']) for row in s12l_enes])"
   ]
  },
  {
   "cell_type": "markdown",
   "metadata": {},
   "source": [
    "### X23"
   ]
  },
  {
   "cell_type": "code",
   "execution_count": 38,
   "metadata": {
    "collapsed": false
   },
   "outputs": [
    {
     "data": {
      "text/plain": [
       "[('CO2', C4O8),\n",
       " ('acetic', C8H16O8),\n",
       " ('adaman', C20H32),\n",
       " ('ammonia', H12N4),\n",
       " ('anthracene', C28H20),\n",
       " ('benzene', C24H24),\n",
       " ('cyanamide', C8H16N16),\n",
       " ('cytosine', C16H20N12O4),\n",
       " ('ethcar', C6H14N2O4),\n",
       " ('formamide', C4H12N4O4),\n",
       " ('hexamine', C6H12N4),\n",
       " ('hexdio', C12H16O4),\n",
       " ('imdazole', C12H16N8),\n",
       " ('naph', C20H16),\n",
       " ('oxaca', C8H8O16),\n",
       " ('oxacb', C4H4O8),\n",
       " ('pyrazine', C8H8N4),\n",
       " ('pyrazole', C24H32N16),\n",
       " ('succinic', C8H12O8),\n",
       " ('triazine', C18H18N18),\n",
       " ('trioxane', C18H36O18),\n",
       " ('uracil', C16H16N8O8),\n",
       " ('urea', C2H8N4O2)]"
      ]
     },
     "execution_count": 38,
     "metadata": {},
     "output_type": "execute_result"
    }
   ],
   "source": [
    "x23 = []\n",
    "for p in Path().glob('x23/original-data/geoms-alberto/*.xyz'):\n",
    "    if '_g' in str(p):\n",
    "        continue\n",
    "    c = geomlib.readfile(p, 'xyzc')\n",
    "    x23.append((p.stem, c.complete_molecules()))\n",
    "x23.sort(key=lambda x: x[0])\n",
    "x23"
   ]
  },
  {
   "cell_type": "code",
   "execution_count": 27,
   "metadata": {
    "collapsed": false
   },
   "outputs": [
    {
     "data": {
      "text/plain": [
       "10.0"
      ]
     },
     "execution_count": 27,
     "metadata": {},
     "output_type": "execute_result"
    }
   ],
   "source": [
    "np.median([len(c.atoms)/len(c.get_fragments()) for _, c in x23])"
   ]
  },
  {
   "cell_type": "code",
   "execution_count": 29,
   "metadata": {
    "collapsed": false
   },
   "outputs": [
    {
     "data": {
      "text/plain": [
       "32.0"
      ]
     },
     "execution_count": 29,
     "metadata": {},
     "output_type": "execute_result"
    }
   ],
   "source": [
    "np.median([len(c.atoms) for _, c in x23])"
   ]
  },
  {
   "cell_type": "code",
   "execution_count": 30,
   "metadata": {
    "collapsed": false
   },
   "outputs": [
    {
     "data": {
      "text/plain": [
       "89.092900000000014"
      ]
     },
     "execution_count": 30,
     "metadata": {},
     "output_type": "execute_result"
    }
   ],
   "source": [
    "np.median([c.mass/len(c.get_fragments()) for _, c in x23])"
   ]
  },
  {
   "cell_type": "code",
   "execution_count": 31,
   "metadata": {
    "collapsed": false
   },
   "outputs": [
    {
     "data": {
      "text/plain": [
       "256.34039999999993"
      ]
     },
     "execution_count": 31,
     "metadata": {},
     "output_type": "execute_result"
    }
   ],
   "source": [
    "np.median([c.mass for _, c in x23])"
   ]
  },
  {
   "cell_type": "code",
   "execution_count": 36,
   "metadata": {
    "collapsed": false
   },
   "outputs": [],
   "source": [
    "x23_enes = sorted((DictReader(Path('x23/original-data/energies.csv').open())), key=lambda x: x['geomname'])"
   ]
  },
  {
   "cell_type": "code",
   "execution_count": 44,
   "metadata": {
    "collapsed": false
   },
   "outputs": [
    {
     "data": {
      "text/plain": [
       "-30.645296349999999"
      ]
     },
     "execution_count": 44,
     "metadata": {},
     "output_type": "execute_result"
    }
   ],
   "source": [
    "np.median([float(row['ref'])/len(c.get_fragments()) for (_, c), row in zip(x23, x23_enes)])"
   ]
  },
  {
   "cell_type": "code",
   "execution_count": 45,
   "metadata": {
    "collapsed": false
   },
   "outputs": [
    {
     "data": {
      "text/plain": [
       "-81.735690809999994"
      ]
     },
     "execution_count": 45,
     "metadata": {},
     "output_type": "execute_result"
    }
   ],
   "source": [
    "np.median([float(row['ref']) for row in x23_enes])"
   ]
  },
  {
   "cell_type": "markdown",
   "metadata": {},
   "source": [
    "### S66"
   ]
  },
  {
   "cell_type": "code",
   "execution_count": 59,
   "metadata": {
    "collapsed": false
   },
   "outputs": [
    {
     "data": {
      "text/plain": [
       "[H4O2,\n",
       " C2H10N2,\n",
       " C4H12N2O,\n",
       " CH7NO,\n",
       " C4H11NO2,\n",
       " C4H12N2O,\n",
       " C6H14N2O2,\n",
       " C3H9NO2,\n",
       " C8H8N4O4,\n",
       " C5H7NO,\n",
       " C6H9NO,\n",
       " CH6O2,\n",
       " C4H8O4,\n",
       " C4H10N2O2,\n",
       " C6H8N2O4,\n",
       " C6H9N3O3,\n",
       " C12H12,\n",
       " C10H10N2,\n",
       " C8H8N4O4,\n",
       " C11H11N,\n",
       " C10H10N2O2,\n",
       " C9H9N3O2,\n",
       " CH7NO,\n",
       " C8H10,\n",
       " C6H8N2O2,\n",
       " C6H6N2O2,\n",
       " C7H9N,\n",
       " C10H24,\n",
       " C10H24,\n",
       " C10H24,\n",
       " C10H22,\n",
       " C10H20,\n",
       " C11H16,\n",
       " C3H9NO2,\n",
       " C11H18,\n",
       " C9H16N2O2,\n",
       " C9H14N2O2,\n",
       " C9H16N2O2,\n",
       " C7H16,\n",
       " C7H14,\n",
       " C8H19NO,\n",
       " C12H12,\n",
       " C10H10N2,\n",
       " C11H11N,\n",
       " C2H8O2,\n",
       " C8H8,\n",
       " C4H4,\n",
       " C8H10O2,\n",
       " C8H11NO,\n",
       " C6H8O,\n",
       " C7H10O,\n",
       " C7H11N,\n",
       " C9H13NO,\n",
       " C10H10N2,\n",
       " C2H4O,\n",
       " C2H9NO,\n",
       " C4H6O2,\n",
       " C7H16O2,\n",
       " C7H17NO,\n",
       " C8H10O2,\n",
       " C5H11NO,\n",
       " C7H7N,\n",
       " C6H10N2,\n",
       " C4H11NO2,\n",
       " CH6O2,\n",
       " C2H9NO]"
      ]
     },
     "execution_count": 59,
     "metadata": {},
     "output_type": "execute_result"
    }
   ],
   "source": [
    "s66 = [geomlib.readfile(p) for p in Path('s66x8/geoms').glob('*-1.0-complex_*.aims')]\n",
    "s66"
   ]
  },
  {
   "cell_type": "code",
   "execution_count": 61,
   "metadata": {
    "collapsed": false
   },
   "outputs": [
    {
     "data": {
      "text/plain": [
       "{2}"
      ]
     },
     "execution_count": 61,
     "metadata": {},
     "output_type": "execute_result"
    }
   ],
   "source": [
    "set(len(m.get_fragments()) for m in s66)"
   ]
  },
  {
   "cell_type": "code",
   "execution_count": 63,
   "metadata": {
    "collapsed": false
   },
   "outputs": [
    {
     "data": {
      "text/plain": [
       "19.5"
      ]
     },
     "execution_count": 63,
     "metadata": {},
     "output_type": "execute_result"
    }
   ],
   "source": [
    "np.median([len(m.atoms) for m in s66])"
   ]
  },
  {
   "cell_type": "code",
   "execution_count": 64,
   "metadata": {
    "collapsed": false
   },
   "outputs": [
    {
     "data": {
      "text/plain": [
       "125.65945000000002"
      ]
     },
     "execution_count": 64,
     "metadata": {},
     "output_type": "execute_result"
    }
   ],
   "source": [
    "np.median([m.mass for m in s66])"
   ]
  },
  {
   "cell_type": "code",
   "execution_count": 67,
   "metadata": {
    "collapsed": false
   },
   "outputs": [],
   "source": [
    "s66_enes = list(DictReader(Path('s66x8/energies.csv').open()))"
   ]
  },
  {
   "cell_type": "code",
   "execution_count": 70,
   "metadata": {
    "collapsed": false
   },
   "outputs": [
    {
     "data": {
      "text/plain": [
       "-4.1400000000000006"
      ]
     },
     "execution_count": 70,
     "metadata": {},
     "output_type": "execute_result"
    }
   ],
   "source": [
    "np.median([float(row['ref']) for row in s66_enes if float(row['scale']) == 1.0])"
   ]
  }
 ],
 "metadata": {
  "kernelspec": {
   "display_name": "Python 3",
   "language": "python",
   "name": "python3"
  },
  "language_info": {
   "codemirror_mode": {
    "name": "ipython",
    "version": 3
   },
   "file_extension": ".py",
   "mimetype": "text/x-python",
   "name": "python",
   "nbconvert_exporter": "python",
   "pygments_lexer": "ipython3",
   "version": "3.5.1"
  }
 },
 "nbformat": 4,
 "nbformat_minor": 0
}
