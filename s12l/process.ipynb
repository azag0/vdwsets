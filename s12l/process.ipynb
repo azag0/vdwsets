{
 "cells": [
  {
   "cell_type": "code",
   "execution_count": null,
   "metadata": {
    "collapsed": false
   },
   "outputs": [],
   "source": [
    "import json\n",
    "from itertools import groupby\n",
    "import numpy as np\n",
    "import sys\n",
    "import re\n",
    "sys.path.append('..')\n",
    "from geomlib import Molecule, Atom\n",
    "from pathlib import Path\n",
    "from tabulate import tabulate\n",
    "\n",
    "bohr = 0.52917721092"
   ]
  },
  {
   "cell_type": "code",
   "execution_count": null,
   "metadata": {
    "collapsed": false
   },
   "outputs": [],
   "source": [
    "with open('res/suppl-info.json') as f:\n",
    "    pages = json.load(f)"
   ]
  },
  {
   "cell_type": "code",
   "execution_count": null,
   "metadata": {
    "collapsed": false
   },
   "outputs": [],
   "source": [
    "def get_lines(pages):\n",
    "    for page in pages:\n",
    "        top_last = 0\n",
    "        for top, tokens in groupby(page['text'], lambda tok: tok['top']):\n",
    "            if top < top_last+12:\n",
    "                print(page['number'], list(tokens))\n",
    "                return\n",
    "            top_last = top\n",
    "            token_data = [tok['data'] for tok in tokens]\n",
    "            if len(token_data) == 1:\n",
    "                continue\n",
    "            yield token_data"
   ]
  },
  {
   "cell_type": "code",
   "execution_count": null,
   "metadata": {
    "collapsed": false
   },
   "outputs": [],
   "source": [
    "lines = get_lines(pages)\n",
    "while next(lines)[-1] != 'COORDINATES':\n",
    "    pass\n",
    "next(lines)\n",
    "geoms = {}\n",
    "try:\n",
    "    for line in lines:\n",
    "        if len(line) in (2, 3):\n",
    "            geom = Molecule()\n",
    "            if len(line) == 3:\n",
    "                geom['charge'] = int(line[2].split('CHARGE=')[1])\n",
    "            geoms[(int(line[0]), line[1].lower())] = geom\n",
    "        elif len(line) == 4:\n",
    "            geom.atoms.append(Atom(line[3], tuple(float(x)*bohr for x in line[0:3])))\n",
    "except:\n",
    "    print('Line: ', line)\n",
    "    raise"
   ]
  },
  {
   "cell_type": "code",
   "execution_count": null,
   "metadata": {
    "collapsed": false
   },
   "outputs": [],
   "source": [
    "print(tabulate(\n",
    "        (idx, system, geom.metadata.get('charge'), len(geom))\n",
    "        for (idx, system), geom in sorted(geoms.items())\n",
    "    ))"
   ]
  },
  {
   "cell_type": "code",
   "execution_count": null,
   "metadata": {
    "collapsed": false
   },
   "outputs": [],
   "source": [
    "for (idx, system), geom in sorted(geoms.items()):\n",
    "    system, subidx = re.findall(r'(host|complex|monomer)(\\d)?', system)[0]\n",
    "    subidx = 'ab'[int(subidx)-1] if subidx else ''\n",
    "    filename = '{}-{}-{}.xyz'.format(idx, system, subidx)\n",
    "    geom.write('geoms/' + filename)"
   ]
  }
 ],
 "metadata": {
  "kernelspec": {
   "display_name": "Python 3",
   "language": "python",
   "name": "python3"
  },
  "language_info": {
   "codemirror_mode": {
    "name": "ipython",
    "version": 3
   },
   "file_extension": ".py",
   "mimetype": "text/x-python",
   "name": "python",
   "nbconvert_exporter": "python",
   "pygments_lexer": "ipython3",
   "version": "3.5.1"
  }
 },
 "nbformat": 4,
 "nbformat_minor": 0
}
