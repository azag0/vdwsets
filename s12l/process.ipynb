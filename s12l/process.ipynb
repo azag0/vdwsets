{
 "cells": [
  {
   "cell_type": "code",
   "execution_count": 99,
   "metadata": {
    "collapsed": true
   },
   "outputs": [],
   "source": [
    "import json\n",
    "from itertools import groupby\n",
    "import numpy as np\n",
    "import sys\n",
    "import re\n",
    "sys.path.append('..')\n",
    "import geomlib\n",
    "from pathlib import Path\n",
    "from tabulate import tabulate\n",
    "\n",
    "bohr = 0.52917721092"
   ]
  },
  {
   "cell_type": "code",
   "execution_count": 100,
   "metadata": {
    "collapsed": false
   },
   "outputs": [],
   "source": [
    "with open('res/suppl-info.json') as f:\n",
    "    pages = json.load(f)"
   ]
  },
  {
   "cell_type": "code",
   "execution_count": 107,
   "metadata": {
    "collapsed": false
   },
   "outputs": [],
   "source": [
    "def get_lines(pages):\n",
    "    for page in pages:\n",
    "        top_last = 0\n",
    "        for top, tokens in groupby(page['text'], lambda tok: tok['top']):\n",
    "            if top < top_last+12:\n",
    "                print(page['number'], list(tokens))\n",
    "                return\n",
    "            top_last = top\n",
    "            token_data = [tok['data'] for tok in tokens]\n",
    "            if len(token_data) == 1:\n",
    "                continue\n",
    "            yield token_data"
   ]
  },
  {
   "cell_type": "code",
   "execution_count": 108,
   "metadata": {
    "collapsed": false
   },
   "outputs": [
    {
     "name": "stdout",
     "output_type": "stream",
     "text": [
      "1 [{'data': '[a]', 'font': 3, 'height': 11, 'top': 565, 'left': 509, 'width': 15}]\n"
     ]
    },
    {
     "ename": "StopIteration",
     "evalue": "",
     "output_type": "error",
     "traceback": [
      "\u001b[0;31m---------------------------------------------------------------------------\u001b[0m",
      "\u001b[0;31mStopIteration\u001b[0m                             Traceback (most recent call last)",
      "\u001b[0;32m<ipython-input-108-619ad7d4241a>\u001b[0m in \u001b[0;36m<module>\u001b[0;34m()\u001b[0m\n\u001b[1;32m      1\u001b[0m \u001b[0mlines\u001b[0m \u001b[0;34m=\u001b[0m \u001b[0mget_lines\u001b[0m\u001b[0;34m(\u001b[0m\u001b[0mpages\u001b[0m\u001b[0;34m)\u001b[0m\u001b[0;34m\u001b[0m\u001b[0m\n\u001b[0;32m----> 2\u001b[0;31m \u001b[0;32mwhile\u001b[0m \u001b[0mnext\u001b[0m\u001b[0;34m(\u001b[0m\u001b[0mlines\u001b[0m\u001b[0;34m)\u001b[0m\u001b[0;34m[\u001b[0m\u001b[0;34m-\u001b[0m\u001b[0;36m1\u001b[0m\u001b[0;34m]\u001b[0m \u001b[0;34m!=\u001b[0m \u001b[0;34m'COORDINATES'\u001b[0m\u001b[0;34m:\u001b[0m\u001b[0;34m\u001b[0m\u001b[0m\n\u001b[0m\u001b[1;32m      3\u001b[0m     \u001b[0;32mpass\u001b[0m\u001b[0;34m\u001b[0m\u001b[0m\n\u001b[1;32m      4\u001b[0m \u001b[0mnext\u001b[0m\u001b[0;34m(\u001b[0m\u001b[0mlines\u001b[0m\u001b[0;34m)\u001b[0m\u001b[0;34m\u001b[0m\u001b[0m\n\u001b[1;32m      5\u001b[0m \u001b[0mgeoms\u001b[0m \u001b[0;34m=\u001b[0m \u001b[0;34m{\u001b[0m\u001b[0;34m}\u001b[0m\u001b[0;34m\u001b[0m\u001b[0m\n",
      "\u001b[0;31mStopIteration\u001b[0m: "
     ]
    }
   ],
   "source": [
    "lines = get_lines(pages)\n",
    "while next(lines)[-1] != 'COORDINATES':\n",
    "    pass\n",
    "next(lines)\n",
    "geoms = {}\n",
    "try:\n",
    "    for line in lines:\n",
    "        if len(line) in (2, 3):\n",
    "            geom = {'atoms': []}\n",
    "            if len(line) == 3:\n",
    "                geom['charge'] = int(line[2].split('CHARGE=')[1])\n",
    "            geoms[(int(line[0]), line[1].lower())] = geom\n",
    "        elif len(line) == 4:\n",
    "            geom['atoms'].append((line[3].capitalize(), tuple(float(x)*bohr for x in line[0:3])))\n",
    "except:\n",
    "    print('Line: ', line)\n",
    "    raise"
   ]
  },
  {
   "cell_type": "code",
   "execution_count": 95,
   "metadata": {
    "collapsed": false
   },
   "outputs": [
    {
     "name": "stdout",
     "output_type": "stream",
     "text": [
      "-  --------  -  ---\n",
      "1  complex       24\n",
      "1  monomer       12\n",
      "2  complex1      92\n",
      "2  complex2      86\n",
      "2  host          72\n",
      "2  monomer1      20\n",
      "2  monomer2      14\n",
      "3  complex1     126\n",
      "3  complex2     113\n",
      "3  host          98\n",
      "3  monomer1      28\n",
      "3  monomer2      15\n",
      "4  complex1     148\n",
      "4  complex2     158\n",
      "4  host          88\n",
      "4  monomer1      60\n",
      "4  monomer2      70\n",
      "5  complex1     144\n",
      "5  complex2     142\n",
      "5  host         130\n",
      "5  monomer1      14\n",
      "5  monomer2      12\n",
      "6  complex1  1  125\n",
      "6  complex2  1  122\n",
      "6  host         108\n",
      "6  monomer1  1   17\n",
      "6  monomer2  1   14\n",
      "7  complex1  2  177\n",
      "7  complex2     153\n",
      "7  host         126\n",
      "7  monomer1  2   51\n",
      "7  monomer2      27\n",
      "-  --------  -  ---\n"
     ]
    }
   ],
   "source": [
    "print(tabulate(\n",
    "        (idx, system, geom.get('charge'), len(geom['atoms']))\n",
    "        for (idx, system), geom in sorted(geoms.items())\n",
    "    ))"
   ]
  },
  {
   "cell_type": "code",
   "execution_count": 96,
   "metadata": {
    "collapsed": false
   },
   "outputs": [],
   "source": [
    "for (idx, system), geom in sorted(geoms.items()):\n",
    "    system, subidx = re.findall(r'(host|complex|monomer)(\\d)?', system)[0]\n",
    "    subidx = int(subidx) if subidx else 0\n",
    "    filename = '{}-{}-{}.xyz'.format(idx, system, subidx)\n",
    "    with (Path('geoms')/filename).open('w') as f:\n",
    "        f.write('{}\\n'.format(len(geom['atoms'])))\n",
    "        if 'charge' in geom:\n",
    "            f.write('charge: {}\\n'.format(geom['charge']))\n",
    "        else:\n",
    "            f.write('\\n')\n",
    "        for specie, coord in geom['atoms']:\n",
    "            f.write('{:>2} {:.6} {:.6} {:.6}\\n'.format(specie, *coord))"
   ]
  },
  {
   "cell_type": "code",
   "execution_count": null,
   "metadata": {
    "collapsed": true
   },
   "outputs": [],
   "source": []
  }
 ],
 "metadata": {
  "kernelspec": {
   "display_name": "Python 3",
   "language": "python",
   "name": "python3"
  },
  "language_info": {
   "codemirror_mode": {
    "name": "ipython",
    "version": 3
   },
   "file_extension": ".py",
   "mimetype": "text/x-python",
   "name": "python",
   "nbconvert_exporter": "python",
   "pygments_lexer": "ipython3",
   "version": "3.5.1"
  }
 },
 "nbformat": 4,
 "nbformat_minor": 0
}
